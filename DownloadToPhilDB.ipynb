{
 "cells": [
  {
   "cell_type": "code",
   "execution_count": 1,
   "metadata": {
    "collapsed": false
   },
   "outputs": [],
   "source": [
    "import os\n",
    "\n",
    "import pandas as pd\n",
    "\n",
    "from fitbit_helper import FitbitHelper\n",
    "from datetime import date\n",
    "from datetime import datetime\n",
    "\n",
    "from phildb.create import create\n",
    "from phildb.database import PhilDB\n",
    "\n",
    "import logging\n",
    "logger = logging.getLogger('fitbit')\n",
    "logger.setLevel(logging.DEBUG)"
   ]
  },
  {
   "cell_type": "code",
   "execution_count": 2,
   "metadata": {
    "collapsed": false
   },
   "outputs": [],
   "source": [
    "fitbit_db_name = 'fitbit_db'\n",
    "if os.path.exists(fitbit_db_name):\n",
    "    db = PhilDB(fitbit_db_name)\n",
    "else:\n",
    "    create(fitbit_db_name)\n",
    "    db = PhilDB(fitbit_db_name)\n",
    "    \n",
    "    db.add_measurand('HR', 'HEART_RATE', 'Heart Rate')\n",
    "    db.add_measurand('S', 'SLEEP', 'Sleep')\n",
    "    \n",
    "    db.add_source('FITBIT', 'Fitbit (fitbit.com)')\n",
    "\n",
    "    db.add_timeseries('AM')\n",
    "    db.add_timeseries_instance('AM', '1T', '', measurand = 'HR', source = 'FITBIT')\n",
    "    db.add_timeseries_instance('AM', '1T', '', measurand = 'S', source = 'FITBIT')\n",
    "\n",
    "fbh = FitbitHelper()"
   ]
  },
  {
   "cell_type": "code",
   "execution_count": 3,
   "metadata": {
    "collapsed": false,
    "scrolled": true
   },
   "outputs": [],
   "source": [
    "hr = fbh.get_heart_rate_series('2016-08-14', date.today())\n",
    "db.write('AM', '1T', hr, measurand = 'HR', source = 'FITBIT')"
   ]
  },
  {
   "cell_type": "code",
   "execution_count": 4,
   "metadata": {
    "collapsed": false,
    "scrolled": false
   },
   "outputs": [],
   "source": [
    "for dt in pd.date_range('2016-06-26', date.today(), freq = 'D'):\n",
    "    db.write('AM', '1T', fbh.get_sleep_series(dt), measurand = 'S', source = 'FITBIT')"
   ]
  }
 ],
 "metadata": {
  "kernelspec": {
   "display_name": "Python 2",
   "language": "python",
   "name": "python2"
  },
  "language_info": {
   "codemirror_mode": {
    "name": "ipython",
    "version": 2
   },
   "file_extension": ".py",
   "mimetype": "text/x-python",
   "name": "python",
   "nbconvert_exporter": "python",
   "pygments_lexer": "ipython2",
   "version": "2.7.10"
  }
 },
 "nbformat": 4,
 "nbformat_minor": 0
}
